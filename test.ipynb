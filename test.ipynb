{
 "cells": [
  {
   "cell_type": "code",
   "execution_count": 30,
   "metadata": {},
   "outputs": [
    {
     "name": "stdout",
     "output_type": "stream",
     "text": [
      "[1, 2, 3, 4, 7, 16, 25]\n",
      "buf4 ['', '', '', '']\n",
      "##############dictionary##############\n",
      "Counter({3: 2, 4: 2, 2: 1, 5: 1})\n",
      "##############set##############\n",
      "diff, 32\n",
      "0, 79\n",
      "##############if##############\n",
      "0\n"
     ]
    }
   ],
   "source": [
    "from collections import Counter\n",
    "\n",
    "##############array##############\n",
    "a=[3,4,5,6,7]\n",
    "\n",
    "\n",
    "nums=[1,2,3,4,25,16,7]\n",
    "le=len(nums)\n",
    "i=3\n",
    "nums[::] = nums[:i+1]+sorted(nums[i+1:])\n",
    "print(nums)\n",
    "\n",
    "b=[2,3]\n",
    "b[-2]\n",
    "\n",
    "buf4 = ['']*4\n",
    "print(\"buf4\", buf4)\n",
    "\n",
    "##############dictionary##############\n",
    "print(\"##############dictionary##############\")\n",
    "\n",
    "dct={}\n",
    "ls = [1,2,3,3,4,4,5]\n",
    "dct = Counter(ls)\n",
    "del dct[1]\n",
    "print(dct)\n",
    "\n",
    "##############set##############\n",
    "print(\"##############set##############\")\n",
    "a=(3,4)\n",
    "c,d=a\n",
    "d\n",
    "\n",
    "\n",
    "##############string##############\n",
    "asmall=\"a\"\n",
    "abig = \"A\"\n",
    "diff = ord('b')-ord('B')\n",
    "print(\"diff,\", diff)\n",
    "print(\"0,\", ord('O'))\n",
    "\n",
    "\n",
    "##############if##############\n",
    "print(\"##############if##############\")\n",
    "a=2\n",
    "print(a if a==3 else 0)\n"
   ]
  },
  {
   "cell_type": "code",
   "execution_count": null,
   "metadata": {},
   "outputs": [],
   "source": []
  }
 ],
 "metadata": {
  "interpreter": {
   "hash": "2be5faf79681da6f2a61fdfdd5405d65d042280f7fba6178067603e3a2925119"
  },
  "kernelspec": {
   "display_name": "Python 3.10.0 64-bit",
   "language": "python",
   "name": "python3"
  },
  "language_info": {
   "codemirror_mode": {
    "name": "ipython",
    "version": 3
   },
   "file_extension": ".py",
   "mimetype": "text/x-python",
   "name": "python",
   "nbconvert_exporter": "python",
   "pygments_lexer": "ipython3",
   "version": "3.10.0"
  },
  "orig_nbformat": 4
 },
 "nbformat": 4,
 "nbformat_minor": 2
}
