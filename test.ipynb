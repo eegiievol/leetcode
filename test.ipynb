{
 "cells": [
  {
   "cell_type": "code",
   "execution_count": 33,
   "metadata": {},
   "outputs": [
    {
     "name": "stdout",
     "output_type": "stream",
     "text": [
      "[1, 2, 3, 4]\n",
      "1001\n",
      "bq\n"
     ]
    }
   ],
   "source": [
    "from collections import Counter\n",
    "\n",
    "a=[3,4,5,6,7]\n",
    "\n",
    "\n",
    "nums=[1,2,3,4,25,16,7]\n",
    "le=len(nums)\n",
    "i=3\n",
    "nums[::] = nums[:i+1]+sorted(nums[i+1:])\n",
    "print(nums[0:4])\n",
    "\n",
    "b=[2,3]\n",
    "b[-2]\n",
    "\n",
    "dct = {}\n",
    "s = (12,3)\n",
    "dct[s]=1001\n",
    "\n",
    "if (12,3) in dct:\n",
    "    print(dct[(12,3)])\n",
    "\n",
    "a=\"\"\n",
    "a+=\"bq\"\n",
    "print(a)\n",
    "\n",
    "q=list(a)\n",
    "\n",
    "ls = [1,2,3,3,4,4,5]\n",
    "dct = Counter(ls)\n",
    "\n",
    "\n"
   ]
  },
  {
   "cell_type": "code",
   "execution_count": null,
   "metadata": {},
   "outputs": [],
   "source": []
  }
 ],
 "metadata": {
  "interpreter": {
   "hash": "2be5faf79681da6f2a61fdfdd5405d65d042280f7fba6178067603e3a2925119"
  },
  "kernelspec": {
   "display_name": "Python 3.10.0 64-bit",
   "language": "python",
   "name": "python3"
  },
  "language_info": {
   "codemirror_mode": {
    "name": "ipython",
    "version": 3
   },
   "file_extension": ".py",
   "mimetype": "text/x-python",
   "name": "python",
   "nbconvert_exporter": "python",
   "pygments_lexer": "ipython3",
   "version": "3.10.0"
  },
  "orig_nbformat": 4
 },
 "nbformat": 4,
 "nbformat_minor": 2
}
