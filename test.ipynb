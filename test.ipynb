{
 "cells": [
  {
   "cell_type": "code",
   "execution_count": 7,
   "metadata": {},
   "outputs": [
    {
     "name": "stdout",
     "output_type": "stream",
     "text": [
      "[1, 2, 3, 4, 7, 16, 25]\n",
      "buf4 ['', '', '', '']\n",
      "g [3, 4]\n",
      "[2, 3]\n",
      "[2, 1]\n",
      "[2, 1]\n"
     ]
    }
   ],
   "source": [
    "from collections import Counter\n",
    "##############array##############\n",
    "a=[3,4,5,6,7]\n",
    "\n",
    "nums=[1,2,3,4,25,16,7]\n",
    "le=len(nums)\n",
    "i=3\n",
    "nums[::] = nums[:i+1]+sorted(nums[i+1:])\n",
    "print(nums)\n",
    "\n",
    "b=[2,3]\n",
    "b[-2]\n",
    "\n",
    "buf4 = ['']*4\n",
    "print(\"buf4\", buf4)\n",
    "\n",
    "g = [1,2,3,4]\n",
    "g[::] = g[2:5:]\n",
    "print(\"g\", g)\n",
    "\n",
    "h=[1,2,3]\n",
    "for i in range(len(h)):\n",
    "    p = h.pop(i)\n",
    "    print(h)\n",
    "    h.append(p)\n"
   ]
  },
  {
   "cell_type": "code",
   "execution_count": 19,
   "metadata": {},
   "outputs": [
    {
     "name": "stdout",
     "output_type": "stream",
     "text": [
      "diff, 32\n",
      "0, 79\n",
      "##############if##############\n",
      "0\n"
     ]
    }
   ],
   "source": [
    "##############string##############\n",
    "asmall=\"a\"\n",
    "abig = \"A\"\n",
    "diff = ord('b')-ord('B')\n",
    "print(\"diff,\", diff)\n",
    "print(\"0,\", ord('O'))\n",
    "\n",
    "\n",
    "##############if##############\n",
    "print(\"##############if##############\")\n",
    "a=2\n",
    "print(a if a==3 else 0)"
   ]
  },
  {
   "cell_type": "code",
   "execution_count": 20,
   "metadata": {},
   "outputs": [
    {
     "name": "stdout",
     "output_type": "stream",
     "text": [
      "##############dictionary##############\n",
      "Counter({3: 2, 4: 2, 2: 1, 5: 1})\n",
      "4\n",
      "##############set##############\n"
     ]
    },
    {
     "data": {
      "text/plain": [
       "4"
      ]
     },
     "execution_count": 20,
     "metadata": {},
     "output_type": "execute_result"
    }
   ],
   "source": [
    "##############dictionary##############\n",
    "print(\"##############dictionary##############\")\n",
    "\n",
    "dct={}\n",
    "ls = [1,2,3,3,4,4,5]\n",
    "dct = Counter(ls)\n",
    "del dct[1]\n",
    "print(dct)\n",
    "print(len(dct))"
   ]
  },
  {
   "cell_type": "code",
   "execution_count": 42,
   "metadata": {},
   "outputs": [
    {
     "name": "stdout",
     "output_type": "stream",
     "text": [
      "f [[3]]\n"
     ]
    },
    {
     "data": {
      "text/plain": [
       "[[1, 2], [3, 4], [1, 2]]"
      ]
     },
     "execution_count": 42,
     "metadata": {},
     "output_type": "execute_result"
    }
   ],
   "source": [
    "f=[]\n",
    "f.append([3])\n",
    "print(\"f\",f)\n",
    "a=[[1,2],[3,4],[1,2]]\n",
    "for arr in a:\n",
    " if arr.sort() in a:\n",
    "     a.remove([1,2])\n",
    "a"
   ]
  },
  {
   "cell_type": "code",
   "execution_count": 124,
   "metadata": {},
   "outputs": [
    {
     "name": "stdout",
     "output_type": "stream",
     "text": [
      "q,r 3 4\n",
      "(3, 4, 4, 51)\n",
      "0\n",
      "ab\n",
      "z 4\n",
      "1\n",
      "ok\n",
      "2\n",
      "a13\n"
     ]
    }
   ],
   "source": [
    "##############set##############\n",
    "a=(3,4)\n",
    "q,r=a\n",
    "print(\"q,r\", q,r)\n",
    "b=(4,51)\n",
    "c=a+b\n",
    "print(c)\n",
    "print(5//10)\n",
    "\n",
    "a=\"abc\"\n",
    "ans = []\n",
    "ans.append(a[:2])\n",
    "ans.append(a[:1])\n",
    "print(max(ans))\n",
    "\n",
    "a = [11,2,3,4]\n",
    "print(\"z\",max(a[1::]))\n",
    "print(10//10)\n",
    "def a():\n",
    "    return -1\n",
    "print(\"ok\") if a() else print(\"zz\")\n",
    "print(True+True)\n",
    "a='a'\n",
    "print(a+str(13))\n"
   ]
  }
 ],
 "metadata": {
  "interpreter": {
   "hash": "2be5faf79681da6f2a61fdfdd5405d65d042280f7fba6178067603e3a2925119"
  },
  "kernelspec": {
   "display_name": "Python 3.10.0 64-bit",
   "language": "python",
   "name": "python3"
  },
  "language_info": {
   "codemirror_mode": {
    "name": "ipython",
    "version": 3
   },
   "file_extension": ".py",
   "mimetype": "text/x-python",
   "name": "python",
   "nbconvert_exporter": "python",
   "pygments_lexer": "ipython3",
   "version": "3.10.0"
  },
  "orig_nbformat": 4
 },
 "nbformat": 4,
 "nbformat_minor": 2
}
