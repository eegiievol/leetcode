{
 "cells": [
  {
   "cell_type": "code",
   "execution_count": 18,
   "metadata": {},
   "outputs": [
    {
     "name": "stdout",
     "output_type": "stream",
     "text": [
      "[1, 2, 3, 4, 7, 16, 25]\n",
      "buf4 ['', '', '', '']\n",
      "g [3, 4]\n"
     ]
    }
   ],
   "source": [
    "from collections import Counter\n",
    "##############array##############\n",
    "a=[3,4,5,6,7]\n",
    "\n",
    "nums=[1,2,3,4,25,16,7]\n",
    "le=len(nums)\n",
    "i=3\n",
    "nums[::] = nums[:i+1]+sorted(nums[i+1:])\n",
    "print(nums)\n",
    "\n",
    "b=[2,3]\n",
    "b[-2]\n",
    "\n",
    "buf4 = ['']*4\n",
    "print(\"buf4\", buf4)\n",
    "\n",
    "g = [1,2,3,4]\n",
    "g[::] = g[2:5:]\n",
    "print(\"g\", g)"
   ]
  },
  {
   "cell_type": "code",
   "execution_count": 19,
   "metadata": {},
   "outputs": [
    {
     "name": "stdout",
     "output_type": "stream",
     "text": [
      "diff, 32\n",
      "0, 79\n",
      "##############if##############\n",
      "0\n"
     ]
    }
   ],
   "source": [
    "##############string##############\n",
    "asmall=\"a\"\n",
    "abig = \"A\"\n",
    "diff = ord('b')-ord('B')\n",
    "print(\"diff,\", diff)\n",
    "print(\"0,\", ord('O'))\n",
    "\n",
    "\n",
    "##############if##############\n",
    "print(\"##############if##############\")\n",
    "a=2\n",
    "print(a if a==3 else 0)"
   ]
  },
  {
   "cell_type": "code",
   "execution_count": 20,
   "metadata": {},
   "outputs": [
    {
     "name": "stdout",
     "output_type": "stream",
     "text": [
      "##############dictionary##############\n",
      "Counter({3: 2, 4: 2, 2: 1, 5: 1})\n",
      "4\n",
      "##############set##############\n"
     ]
    },
    {
     "data": {
      "text/plain": [
       "4"
      ]
     },
     "execution_count": 20,
     "metadata": {},
     "output_type": "execute_result"
    }
   ],
   "source": [
    "##############dictionary##############\n",
    "print(\"##############dictionary##############\")\n",
    "\n",
    "dct={}\n",
    "ls = [1,2,3,3,4,4,5]\n",
    "dct = Counter(ls)\n",
    "del dct[1]\n",
    "print(dct)\n",
    "print(len(dct))"
   ]
  },
  {
   "cell_type": "markdown",
   "metadata": {},
   "source": []
  },
  {
   "cell_type": "code",
   "execution_count": 40,
   "metadata": {},
   "outputs": [
    {
     "name": "stdout",
     "output_type": "stream",
     "text": [
      "f [[3]]\n"
     ]
    },
    {
     "data": {
      "text/plain": [
       "[[1, 2], [3, 4], [1, 2]]"
      ]
     },
     "execution_count": 40,
     "metadata": {},
     "output_type": "execute_result"
    }
   ],
   "source": [
    "f=[]\n",
    "f.append([3])\n",
    "print(\"f\",f)\n",
    "a=[[1,2],[3,4],[1,2]]\n",
    "for arr in a:\n",
    " if arr.sort() in a:\n",
    "     a.remove([1,2])\n",
    "a"
   ]
  },
  {
   "cell_type": "code",
   "execution_count": 41,
   "metadata": {},
   "outputs": [
    {
     "name": "stdout",
     "output_type": "stream",
     "text": [
      "(3, 4, 4, 51)\n"
     ]
    }
   ],
   "source": [
    "##############set##############\n",
    "a=(3,4)\n",
    "b=(4,51)\n",
    "c=a+b\n",
    "print(c)\n"
   ]
  }
 ],
 "metadata": {
  "interpreter": {
   "hash": "2be5faf79681da6f2a61fdfdd5405d65d042280f7fba6178067603e3a2925119"
  },
  "kernelspec": {
   "display_name": "Python 3.10.0 64-bit",
   "language": "python",
   "name": "python3"
  },
  "language_info": {
   "codemirror_mode": {
    "name": "ipython",
    "version": 3
   },
   "file_extension": ".py",
   "mimetype": "text/x-python",
   "name": "python",
   "nbconvert_exporter": "python",
   "pygments_lexer": "ipython3",
   "version": "3.10.0"
  },
  "orig_nbformat": 4
 },
 "nbformat": 4,
 "nbformat_minor": 2
}
